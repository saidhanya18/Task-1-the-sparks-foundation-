{
 "cells": [
  {
   "cell_type": "markdown",
   "id": "dd7bf77c",
   "metadata": {},
   "source": [
    "# Linear Regressison\n",
    "accuracy = 4.621333622532769\n",
    "after unsorting = 4.183859899002975"
   ]
  },
  {
   "cell_type": "markdown",
   "id": "4bd15478",
   "metadata": {},
   "source": [
    "# RandomForestRegressor\n",
    "accuracy = 4.864150000000003\n",
    "after unsorting = 6.950178571428571"
   ]
  },
  {
   "cell_type": "markdown",
   "id": "25dba316",
   "metadata": {},
   "source": [
    "# since accuracy is more in linear regression we will use it in our model "
   ]
  },
  {
   "cell_type": "code",
   "execution_count": null,
   "id": "9a2abea5",
   "metadata": {},
   "outputs": [],
   "source": []
  }
 ],
 "metadata": {
  "kernelspec": {
   "display_name": "Python 3",
   "language": "python",
   "name": "python3"
  },
  "language_info": {
   "codemirror_mode": {
    "name": "ipython",
    "version": 3
   },
   "file_extension": ".py",
   "mimetype": "text/x-python",
   "name": "python",
   "nbconvert_exporter": "python",
   "pygments_lexer": "ipython3",
   "version": "3.8.8"
  }
 },
 "nbformat": 4,
 "nbformat_minor": 5
}
